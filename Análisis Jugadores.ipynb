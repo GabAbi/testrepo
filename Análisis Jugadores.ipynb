{
 "cells": [
  {
   "cell_type": "code",
   "execution_count": 2,
   "id": "abacc537",
   "metadata": {},
   "outputs": [],
   "source": [
    "import pandas as pd\n",
    "import numpy as np"
   ]
  },
  {
   "cell_type": "code",
   "execution_count": 3,
   "id": "56ba8211",
   "metadata": {},
   "outputs": [],
   "source": [
    "pesos = pd.read_excel(\"pesos.xlsx\", header = 0)\n",
    "jugadores = pd.read_excel(\"CA.xlsx\", header = 0)\n",
    "pesos.set_index(\"Atributo\", inplace = True)"
   ]
  },
  {
   "cell_type": "code",
   "execution_count": 3,
   "id": "9e7a5c14",
   "metadata": {},
   "outputs": [],
   "source": [
    "pie = {\"Very Weak\":2,\"Weak\":6,\"Reasonable\":10,\"Strong\":16,\"Fairly Strong\":18,\"Very Strong\":20}\n",
    "pos_dict = {'GK':'GK','D (R)':'DRL', 'D (L)':'DRL', 'D (C)':'DC', 'WB (R)':'WBRL', 'WB (L)':'WBRL', 'DM':'DM', 'M (L)':'MRL', 'M (R)':'MRL','M (C)':'MC', 'AM (L)':'AMRL', 'AM (R)':'AMRL','AM (C)':'AMC','ST (C)':'SC'}\n",
    "CA = {}\n",
    "atributos = ['Cor', 'Cro', 'Dri', 'Fin', 'Fir', 'Fre', 'Hea', 'Lon', 'L Th',\n",
    "       'Mar', 'Pas', 'Pen', 'Tck', 'Tec', 'Agg', 'Ant', 'Bra', 'Cmp', 'Cnt',\n",
    "       'Dec', 'Det', 'Fla', 'Ldr', 'OtB', 'Pos', 'Tea', 'Vis', 'Wor', 'Acc',\n",
    "       'Agi', 'Bal', 'Jum', 'Nat', 'Pac', 'Sta', 'Str', 'Aer', 'Cmd', 'Com',\n",
    "       'Ecc', 'Han', 'Kic', '1v1', 'Pun', 'Ref', 'TRO', 'Thr','WeakFoot']"
   ]
  },
  {
   "cell_type": "code",
   "execution_count": 4,
   "id": "ae95e3bc",
   "metadata": {},
   "outputs": [],
   "source": [
    "def obtener_pos(POS):\n",
    "    lista_comas = POS.split(\",\")\n",
    "    lista_final = []\n",
    "    for i in lista_comas:\n",
    "            if len(i.split(\"/\")) > 1:\n",
    "                lista_varios = i.strip().split(\" \")\n",
    "                lista_pos = lista_varios[0].split(\"/\")\n",
    "                for i in lista_pos:\n",
    "                    final = lista_varios[-1]\n",
    "                    if len(final[final.rfind('(')+1:final.rfind(')')]) > 1:\n",
    "                        for letra in final[final.rfind('(')+1:final.rfind(')')]:\n",
    "                            lista_final.append(i + ' ' + ('('+letra+')'))\n",
    "                    else:\n",
    "                        lista_final.append(i + ' ' + (final))\n",
    "            else:\n",
    "                lista_varios = i.strip().split(\" \")\n",
    "                final = lista_varios[-1]\n",
    "                if len(final[final.rfind('(')+1:final.rfind(')')]) > 1:\n",
    "                        for letra in final[final.rfind('(')+1:final.rfind(')')]:\n",
    "                            lista_final.append(lista_varios[0] + ' ' + ('('+letra+')'))\n",
    "                else:\n",
    "                    lista_final.append(i)\n",
    "    return [i.strip() for i in lista_final]"
   ]
  },
  {
   "cell_type": "code",
   "execution_count": 5,
   "id": "b4bf5c35",
   "metadata": {},
   "outputs": [],
   "source": [
    "jugadores['WeakFoot'] = [min(pie[jugadores.iloc[i][\"Left Foot\"]],pie[jugadores.iloc[i][\"Right Foot\"]]) for i in range(len(jugadores))]"
   ]
  },
  {
   "cell_type": "code",
   "execution_count": 6,
   "id": "904a62b1",
   "metadata": {},
   "outputs": [],
   "source": [
    "for i in range(len(jugadores)):\n",
    "    denominador = []\n",
    "    posibles_scores = []\n",
    "    for pos in obtener_pos(jugadores.iloc[i][\"Position\"]):\n",
    "        denominador = []\n",
    "        for atr in atributos:\n",
    "            pos_final = pos_dict[pos]\n",
    "            if type(pesos[pos_final][atr]) == type(pesos[\"GK\"][\"Pas\"]):\n",
    "                denominador.append(jugadores.iloc[i][atr]*max(pesos[pos_final][atr]))\n",
    "            else:\n",
    "                denominador.append(jugadores.iloc[i][atr]*pesos[pos_final][atr])\n",
    "        CA[jugadores.iloc[i].Name + \" \" + '[' + pos + ']'] = round((sum(denominador)/pesos[pos_final].sum())*18.139 - 97.871)"
   ]
  },
  {
   "cell_type": "code",
   "execution_count": 7,
   "id": "2a3d2f73",
   "metadata": {},
   "outputs": [],
   "source": [
    "CurrentAbility = pd.DataFrame(columns = [\"Nombre\",\"Posición\",\"CA\"])\n",
    "CurrentAbility[\"Nombre\"] = [i[0:i.rfind('[')-1].strip() for i in CA.keys()]\n",
    "CurrentAbility[\"Posición\"] = [i[i.rfind('[')+1:i.rfind(']')].strip() for i in CA.keys()]\n",
    "CurrentAbility[\"CA\"] = list(CA.values())"
   ]
  },
  {
   "cell_type": "code",
   "execution_count": 8,
   "id": "1200f513",
   "metadata": {},
   "outputs": [],
   "source": [
    "df_atr = pd.read_excel(\"Atributos.xlsx\", header = 0)"
   ]
  },
  {
   "cell_type": "code",
   "execution_count": 9,
   "id": "9ea29906",
   "metadata": {},
   "outputs": [],
   "source": [
    "df_plantilla = CurrentAbility.merge(df_atr, left_on = \"Nombre\", right_on = \"Name\")\n",
    "df_plantilla = df_plantilla[[i for i in df_plantilla.columns if i not in [\"Nombre\",\"Position\"]]]"
   ]
  },
  {
   "cell_type": "code",
   "execution_count": 10,
   "id": "ce28bb52",
   "metadata": {},
   "outputs": [],
   "source": [
    "df_plantilla.to_excel(\"PLANTILLA.xlsx\")"
   ]
  },
  {
   "cell_type": "code",
   "execution_count": 5,
   "id": "203a2c8a",
   "metadata": {},
   "outputs": [],
   "source": [
    "#df1 = pd.read_excel(\"BBDD1.xlsx\", header = 0) #ESTO ESTÄ MAL\n",
    "df_final = pd.read_excel(\"BBDD2.xlsx\", header = 0, na_values = '-')"
   ]
  },
  {
   "cell_type": "code",
   "execution_count": 6,
   "id": "0638f20c",
   "metadata": {},
   "outputs": [],
   "source": [
    "def cambioApps(df_final):\n",
    "    valores = []\n",
    "    for i in range(len(df_final)):\n",
    "        if df_final.Apps.astype('str')[i].rfind(' ') != -1:\n",
    "            valores.append(float(df_final.Apps.astype('str')[i][:df_final.Apps.astype('str')[i].rfind(' ')]))\n",
    "        else:\n",
    "            valores.append(float(df_final.Apps.astype('str')[i]))\n",
    "    return valores"
   ]
  },
  {
   "cell_type": "code",
   "execution_count": 7,
   "id": "6de4d78a",
   "metadata": {},
   "outputs": [],
   "source": [
    "df_final.fillna(0, inplace = True)\n",
    "df_final['Apps'] = cambioApps(df_final)\n",
    "df_final = df_final[df_final.Apps > 10]\n",
    "df_final = df_final[['Name','Apps','Mins', 'Mins/Gm', 'Position','Height', 'Weight', 'Age','Transfer Value','Av Rat','Gls','Gls/90','Shot %','Pen/R','xG','Ch C/90','Asts/90','K Ps/90','Pas %','Cr C/A','Drb/90','Distance','Hdr %','K Tck','Fls','Int/90','Clear','Con/90','xSv %','Sv %','Svh', 'Svt', 'Svp','Pens Saved Ratio','PoM','Aer A/90','Off','Based','Tck R']]\n",
    "df_final.columns = ['Name','Apps','Mins', 'Mins/Gm', 'Position','Height', 'Weight', 'Age','Transfer Value','Av Rat','Gls','Gls/90','Shot %','Pen/R','xG','Ch C/90','Asts/90','K Ps/90','Pas %','Cr C/A','Drb/90','Distance','Hdr %','K Tck','Fls','Int/90','Clear','Con/90','xSv %','Sv %','Svh', 'Svt', 'Svp','Pens Saved Ratio','PoM','Aer A/90','Off','Based', 'Tck R']\n",
    "#df_final = df_final[df_final['Transfer Value'] != 'Not for Sale']\n",
    "df_final.reset_index(inplace = True)\n",
    "df_final.drop(['Transfer Value','index'], axis = 1, inplace = True)"
   ]
  },
  {
   "cell_type": "code",
   "execution_count": 8,
   "id": "468b96c9",
   "metadata": {},
   "outputs": [],
   "source": [
    "columnas = {'Name':[],'POS':[]}\n",
    "for i in range(len(df_final)):\n",
    "    for pos in obtener_pos(df_final.iloc[i][\"Position\"]):\n",
    "        columnas['Name'].append(df_final.iloc[i][\"Name\"])\n",
    "        columnas['POS'].append(pos)\n",
    "posiciones = pd.DataFrame(data = columnas)"
   ]
  },
  {
   "cell_type": "code",
   "execution_count": 9,
   "id": "80536970",
   "metadata": {},
   "outputs": [],
   "source": [
    "variables = df_final.merge(posiciones, on = [\"Name\"])\n",
    "variables.drop(\"Position\", axis = 1, inplace = True)\n",
    "variables['Height'] = [float(variables.iloc[i].Height[0:variables.iloc[i].Height.rfind(' ')]) for i in range(len(variables))]\n",
    "variables['Weight'] = [float(variables.iloc[i].Weight[0:variables.iloc[i].Weight.rfind(' ')]) for i in range(len(variables))]\n",
    "variables['Distance'] = [float(variables.iloc[i].Distance[0:variables.iloc[i].Distance.rfind('k')]) for i in range(len(variables))]"
   ]
  },
  {
   "cell_type": "code",
   "execution_count": 10,
   "id": "16b35427",
   "metadata": {},
   "outputs": [],
   "source": [
    "variables['Saves'] = variables['Svh'] + variables['Svt'] + variables['Svp']\n",
    "variables['Mins/Gm'] = variables['Mins']/variables['Apps']\n",
    "variables['Saves/xSv%'] = variables['Saves']/variables['xSv %']\n",
    "variables['Gls/xG'] = variables['Gls']/variables['xG']\n",
    "variables['Dist/Mins'] = variables['Distance']/variables['Mins']\n",
    "variables.replace([np.inf, -np.inf], np.nan,inplace=True)\n",
    "variables.fillna(0,inplace = True)"
   ]
  },
  {
   "cell_type": "code",
   "execution_count": 11,
   "id": "066ce3a2",
   "metadata": {},
   "outputs": [],
   "source": [
    "porteros = variables[variables.POS == 'GK'][[\"Name\", \"POS\", \"Based\", \"Apps\", \"Mins\", \"Mins/Gm\", \"Height\", \"Weight\", \"Age\", \"Av Rat\", \"Con/90\", \"Svh\", \"Svt\", \"Saves\", \"Svp\", \"Sv %\", \"xSv %\", \"Saves/xSv%\", \"Pens Saved Ratio\", \"PoM\"]]\n",
    "defensas = variables[(variables.POS == 'D (C)') | (variables.POS == 'D (L)') | (variables.POS == 'D (R)') | (variables.POS == 'WB (L)') | (variables.POS == 'WB (R)')][[\"Name\", \"POS\", \"Based\", \"Apps\", \"Mins\", \"Mins/Gm\", \"Height\", \"Weight\", \"Age\", \"Av Rat\", \"Distance\", \"Dist/Mins\", \"Hdr %\", \"Aer A/90\", \"K Tck\", \"Tck R\", \"Fls\", \"Int/90\", \"Pas %\", \"Clear\", \"PoM\"]]\n",
    "medios = variables[(variables.POS == 'M (C)') | (variables.POS == 'M (L)') | (variables.POS == 'M (R)') | (variables.POS == 'DM')][[\"Name\", \"POS\", \"Based\", \"Apps\", \"Mins\", \"Mins/Gm\", \"Height\", \"Weight\", \"Age\", \"Av Rat\", \"Gls\", \"Gls/90\", \"xG\", \"Gls/xG\", \"Ch C/90\", \"Asts/90\", \"K Ps/90\", \"Pas %\", \"Cr C/A\", \"Distance\", \"Dist/Mins\", \"Hdr %\", \"Aer A/90\", \"K Tck\",\"Tck R\", \"Fls\", \"Int/90\", \"Clear\", \"PoM\"]]\n",
    "delanteros = variables[(variables.POS == 'AM (C)') | (variables.POS == 'AM (R)') | (variables.POS == 'AM (L)') | (variables.POS == 'ST (C)')][[\"Name\", \"POS\", \"Based\", \"Apps\", \"Mins\", \"Mins/Gm\", \"Height\", \"Weight\", \"Age\", \"Av Rat\", \"Gls\", \"Gls/90\", \"xG\", \"Gls/xG\", \"Shot %\", \"Ch C/90\", \"Asts/90\", \"K Ps/90\", \"Drb/90\", \"Distance\", \"Dist/Mins\", \"Hdr %\", \"Aer A/90\", \"Pen/R\", \"Off\", \"PoM\"]]"
   ]
  },
  {
   "cell_type": "code",
   "execution_count": 12,
   "id": "0a483100",
   "metadata": {},
   "outputs": [],
   "source": [
    "#SACAMOS EXCELS\n",
    "porteros.to_excel(\"porteros_cambio.xlsx\")\n",
    "defensas.to_excel(\"defensas_cambio.xlsx\")\n",
    "medios.to_excel(\"medios_cambio.xlsx\")\n",
    "delanteros.to_excel(\"delanteros_cambio.xlsx\")"
   ]
  },
  {
   "cell_type": "code",
   "execution_count": 65,
   "id": "f02de8b4",
   "metadata": {},
   "outputs": [],
   "source": [
    "#RED NEURONAL\n",
    "from sklearn.linear_model import LinearRegression\n",
    "from sklearn.model_selection import train_test_split\n",
    "from sklearn.model_selection import cross_val_score"
   ]
  },
  {
   "cell_type": "code",
   "execution_count": 95,
   "id": "356dc094",
   "metadata": {},
   "outputs": [
    {
     "data": {
      "text/plain": [
       "-167.07875935984117"
      ]
     },
     "execution_count": 95,
     "metadata": {},
     "output_type": "execute_result"
    }
   ],
   "source": [
    "#Porteros\n",
    "dep = porteros[['Value']]\n",
    "indep = porteros[['Height', 'Weight', 'Age', 'Av Rat', 'Con/90',\n",
    "       'xSv %', 'Pens Saved Ratio', 'PoM','Saves', 'Saves/xSv%']]\n",
    "#Separamos train/test\n",
    "X_train,X_test, y_train, y_test = train_test_split(indep, dep, test_size = 0.3, random_state = 142)\n",
    "model = LinearRegression()\n",
    "model.fit(X_train, y_train)\n",
    "cv_score = cross_val_score(model, X_test, y_test, cv = 10)\n",
    "np.mean(cv_score)"
   ]
  },
  {
   "cell_type": "code",
   "execution_count": 92,
   "id": "6525766a",
   "metadata": {},
   "outputs": [
    {
     "data": {
      "text/plain": [
       "479"
      ]
     },
     "execution_count": 92,
     "metadata": {},
     "output_type": "execute_result"
    }
   ],
   "source": [
    "len(porteros)"
   ]
  }
 ],
 "metadata": {
  "kernelspec": {
   "display_name": "Python 3 (ipykernel)",
   "language": "python",
   "name": "python3"
  },
  "language_info": {
   "codemirror_mode": {
    "name": "ipython",
    "version": 3
   },
   "file_extension": ".py",
   "mimetype": "text/x-python",
   "name": "python",
   "nbconvert_exporter": "python",
   "pygments_lexer": "ipython3",
   "version": "3.9.5"
  }
 },
 "nbformat": 4,
 "nbformat_minor": 5
}
